{
 "cells": [
  {
   "cell_type": "code",
   "execution_count": null,
   "metadata": {},
   "outputs": [],
   "source": [
    "from gather_analysis_helper import *"
   ]
  },
  {
   "cell_type": "code",
   "execution_count": null,
   "metadata": {},
   "outputs": [],
   "source": [
    "start_time = \"2019-11-22 08:00:00\"\n",
    "end_time = \"2019-11-22 12:00:00\"\n",
    "\n",
    "print(\"Start time: \" + start_time)\n",
    "print(\"End time: \" + end_time)"
   ]
  },
  {
   "cell_type": "code",
   "execution_count": null,
   "metadata": {},
   "outputs": [],
   "source": [
    "sn_rsn = {}\n",
    "sn_first_seen = {}\n",
    "sn_last_seen = {}\n",
    "collect_start = 0\n",
    "collect_end = 0\n",
    "max_nodes = 80000\n",
    "raw = make_file_iterator(start_time, end_time, os.path.join(\"data/raw.json\"))\n",
    "for status in raw:\n",
    "    if \"retweeted_status\" in status:\n",
    "        sn = status[\"user\"][\"screen_name\"]\n",
    "        rsn = status[\"retweeted_status\"][\"user\"][\"screen_name\"]\n",
    "        created_at = status[\"created_at\"]\n",
    "        tweet_time_unix = twitter_time_to_unix(created_at)\n",
    "        if collect_start == 0:\n",
    "            collect_start = tweet_time_unix\n",
    "        if collect_end == 0:\n",
    "            collect_end = tweet_time_unix\n",
    "        if collect_start > tweet_time_unix:\n",
    "            collect_start = tweet_time_unix\n",
    "        if collect_end < tweet_time_unix:\n",
    "            collect_end = tweet_time_unix\n",
    "        if sn not in sn_rsn:\n",
    "            sn_rsn[sn] = Counter()\n",
    "        sn_rsn[sn][rsn] += 1\n",
    "        if sn not in sn_first_seen:\n",
    "            sn_first_seen[sn] = tweet_time_unix\n",
    "        if sn not in sn_last_seen:\n",
    "            sn_last_seen[sn] = tweet_time_unix\n",
    "        if sn_first_seen[sn] > tweet_time_unix:\n",
    "            sn_first_seen[sn] = tweet_time_unix\n",
    "        if sn_last_seen[sn] < tweet_time_unix:\n",
    "            sn_last_seen[sn] = tweet_time_unix\n",
    "        if rsn not in sn_first_seen:\n",
    "            sn_first_seen[rsn] = tweet_time_unix\n",
    "        if rsn not in sn_last_seen:\n",
    "            sn_last_seen[rsn] = tweet_time_unix\n",
    "        if sn_first_seen[rsn] > tweet_time_unix:\n",
    "            sn_first_seen[rsn] = tweet_time_unix\n",
    "        if sn_last_seen[rsn] < tweet_time_unix:\n",
    "            sn_last_seen[rsn] = tweet_time_unix\n",
    "    if max_nodes > 0:\n",
    "        if len(sn_rsn) > max_nodes:\n",
    "            break\n",
    "print(len(sn_rsn))"
   ]
  },
  {
   "cell_type": "code",
   "execution_count": null,
   "metadata": {},
   "outputs": [],
   "source": [
    "print(\"Collection started on \" + unix_time_to_readable(collect_start) + \" and ended on \" + unix_time_to_readable(collect_end))"
   ]
  },
  {
   "cell_type": "code",
   "execution_count": null,
   "metadata": {
    "scrolled": true
   },
   "outputs": [],
   "source": [
    "print(\"Getting communities\")\n",
    "clusters = get_communities(sn_rsn)\n",
    "print(\"Making mapping\")\n",
    "mapping = []\n",
    "node_names = set()\n",
    "for source, targets in sn_rsn.items():\n",
    "    node_names.add(source)\n",
    "    for target, count in targets.items():\n",
    "        node_names.add(target)\n",
    "        mapping.append((source, target, count))\n",
    "print(\"Done\")"
   ]
  },
  {
   "cell_type": "code",
   "execution_count": null,
   "metadata": {},
   "outputs": [],
   "source": [
    "print(len(sn_rsn))\n",
    "start_times = {}\n",
    "end_times = {}\n",
    "for sn, start in sn_first_seen.items():\n",
    "    end = sn_last_seen[sn]\n",
    "    start_times[sn] = start\n",
    "    if start == end:\n",
    "        end = end + 180\n",
    "    end_times[sn] = end\n",
    "\n",
    "node_attr = {}\n",
    "for name in node_names:\n",
    "    node_attr[name] = []\n",
    "attr_labels = []\n",
    "    \n",
    "# Community, as detected by Louvain method\n",
    "for label, names in clusters.items():\n",
    "    for name in names:\n",
    "        node_attr[name].append(label)\n",
    "        if name in sn_rsn:\n",
    "            node_attr[name].append(len(sn_rsn[name]))\n",
    "        else:\n",
    "            node_attr[name].append(0)\n",
    "attr_labels.append(\"community\")\n",
    "attr_labels.append(\"retweets\")\n",
    "\n",
    "write_timelapse_gexf(mapping, os.path.join(\"timelapse_graph.gexf\"), start_times, end_times, node_attr, attr_labels)\n",
    "print(\"Done\")"
   ]
  },
  {
   "cell_type": "code",
   "execution_count": null,
   "metadata": {},
   "outputs": [],
   "source": []
  }
 ],
 "metadata": {
  "kernelspec": {
   "display_name": "Python 3",
   "language": "python",
   "name": "python3"
  },
  "language_info": {
   "codemirror_mode": {
    "name": "ipython",
    "version": 3
   },
   "file_extension": ".py",
   "mimetype": "text/x-python",
   "name": "python",
   "nbconvert_exporter": "python",
   "pygments_lexer": "ipython3",
   "version": "3.7.3"
  }
 },
 "nbformat": 4,
 "nbformat_minor": 2
}

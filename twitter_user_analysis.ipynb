{
 "cells": [
  {
   "cell_type": "code",
   "execution_count": null,
   "metadata": {},
   "outputs": [],
   "source": [
    "from authentication_keys import get_account_credentials\n",
    "from twitter_no_rl_tool import *\n",
    "from gather_analysis_helper import *\n",
    "from time_helpers import *\n",
    "from tweepy import OAuthHandler\n",
    "from tweepy import Stream\n",
    "from tweepy import API\n",
    "from tweepy import Cursor\n",
    "import os, json, sys\n",
    "from collections import Counter\n",
    "import numpy as np\n",
    "import seaborn as sns\n",
    "import matplotlib.pyplot as plt\n",
    "\n",
    "%matplotlib inline"
   ]
  },
  {
   "cell_type": "code",
   "execution_count": null,
   "metadata": {},
   "outputs": [],
   "source": [
    "def auth():\n",
    "    acct_name, consumer_key, consumer_secret, access_token, access_token_secret = get_account_credentials()\n",
    "    auth = OAuthHandler(consumer_key, consumer_secret)\n",
    "    auth.set_access_token(access_token, access_token_secret)\n",
    "    auth_api = API(auth)\n",
    "    return acct_name, auth_api"
   ]
  },
  {
   "cell_type": "code",
   "execution_count": null,
   "metadata": {},
   "outputs": [],
   "source": [
    "def get_tweets(auth_api, target):\n",
    "    tweets = []\n",
    "    count = 0\n",
    "    print(\"\")\n",
    "    for status_obj in Cursor(auth_api.user_timeline, id=target).items():\n",
    "        status = status_obj._json\n",
    "        entry = get_tweet_details(status)\n",
    "        tweets.append(entry)\n",
    "        count += 1\n",
    "        if count % 100 == 0:\n",
    "            sys.stdout.write('\\r')\n",
    "            sys.stdout.flush()\n",
    "            sys.stdout.write(\"%04d\"%count)\n",
    "            sys.stdout.flush\n",
    "    return tweets"
   ]
  },
  {
   "cell_type": "code",
   "execution_count": null,
   "metadata": {},
   "outputs": [],
   "source": [
    "acct_name, auth_api = auth()\n",
    "print(\"Signed on with: \" + acct_name)"
   ]
  },
  {
   "cell_type": "code",
   "execution_count": null,
   "metadata": {},
   "outputs": [],
   "source": [
    "target = \"\"\n",
    "dirname = os.path.join(\"../twitter_analysis/user_analysis\", target)\n",
    "if not os.path.exists(dirname):\n",
    "    print(\"Creating save dir: \" + dirname)\n",
    "    os.makedirs(dirname)"
   ]
  },
  {
   "cell_type": "code",
   "execution_count": null,
   "metadata": {},
   "outputs": [],
   "source": [
    "userobj = auth_api.get_user(target)\n",
    "user = userobj._json\n",
    "save_json(user, os.path.join(dirname, \"user_object.json\"))"
   ]
  },
  {
   "cell_type": "code",
   "execution_count": null,
   "metadata": {},
   "outputs": [],
   "source": [
    "print(\"Details about the account queried\")\n",
    "print(\"=================================\")\n",
    "print()\n",
    "fields = [\"id_str\", \"screen_name\", \"name\", \"created_at\", \"description\", \"location\", \"protected\", \"verified\",\n",
    "          \"lang\", \"followers_count\", \"friends_count\", \"statuses_count\"]\n",
    "for f in fields:\n",
    "    print(f + \": \" + str(user[f]))\n",
    "egg = False\n",
    "if user[\"default_profile\"] == True and user[\"default_profile_image\"] == True:\n",
    "    egg = True\n",
    "print(\"egg: \" + str(egg))\n",
    "current_unix = get_utc_unix_time()\n",
    "ca_unix = twitter_time_to_unix(user[\"created_at\"])\n",
    "age_seconds = current_unix - ca_unix\n",
    "age_hours = age_seconds / 3600\n",
    "age_days = age_hours / 24\n",
    "age_years = age_days/365\n",
    "msg = \"Account age: \"  \n",
    "msg += \"%.2f\"%age_hours + \"(h) \" \n",
    "msg += \"%.2f\"%age_days + \"(d) \" \n",
    "msg += \"%.2f\"%age_years + \"(y)\"\n",
    "print(msg)\n",
    "sc = user[\"statuses_count\"]\n",
    "tweetsph = sc / age_hours\n",
    "tweetspd = sc / age_days\n",
    "print(\"Tweet speed: \" + \"%.2f\"%tweetsph + \"/hour \" + \"%.2f\"%tweetspd + \"/day\")\n",
    "print()\n",
    "print(\"egg is True if the account has default profile picture and profile settings\")\n",
    "print(\"statuses_count is the number of tweets published by the account\")\n",
    "# XXX Other stuff to possibly add\n",
    "# Likes per day\n",
    "# Friends/followers ratio\n",
    "# Retweets / replies / quotes / original ratios\n",
    "# Most liked tweet\n",
    "# Most retweeted users\n",
    "# Most quoted users\n",
    "# Most replied to users\n",
    "# Image collage"
   ]
  },
  {
   "cell_type": "code",
   "execution_count": null,
   "metadata": {},
   "outputs": [],
   "source": [
    "tweets = []\n",
    "saved_tweets_file = os.path.join(dirname, \"tweets.json\")\n",
    "if not os.path.exists(saved_tweets_file):\n",
    "    print(\"Retrieving tweets from Twitter.\")\n",
    "    tweets = get_tweets(auth_api, target)\n",
    "    save_json(tweets, saved_tweets_file)\n",
    "else:\n",
    "    print(\"Loading saved tweets. Please delete \" + saved_tweets_file + \" if you want to fetch new tweets.\")\n",
    "    tweets = load_json(saved_tweets_file)\n",
    "print(\"\")\n",
    "print(\"Got \" + str(len(tweets)) + \" tweets.\")"
   ]
  },
  {
   "cell_type": "code",
   "execution_count": null,
   "metadata": {},
   "outputs": [],
   "source": [
    "full = get_counters_and_interactions2(tweets)"
   ]
  },
  {
   "cell_type": "code",
   "execution_count": null,
   "metadata": {},
   "outputs": [],
   "source": [
    "collect_start = unix_time_to_readable(full[\"oldest\"])\n",
    "collect_end = unix_time_to_readable(full[\"newest\"])\n",
    "print(\"Collection started on \" + collect_start + \" and ended on \" + collect_end)\n",
    "\n",
    "num_tweets = len(tweets)\n",
    "timespan_s = full[\"timespan\"]\n",
    "timespan_10m = timespan_s/600\n",
    "timespan_m = timespan_s/60\n",
    "timespan_h = timespan_m/60\n",
    "timespan_d = timespan_h/24\n",
    "high_vol = timespan_d*40\n",
    "print(\"Collection duration: \" + \"%.2f\"%timespan_d + \" days.\")"
   ]
  },
  {
   "cell_type": "code",
   "execution_count": null,
   "metadata": {
    "scrolled": true
   },
   "outputs": [],
   "source": [
    "uf = full[\"user_fields\"]\n",
    "counters = full[\"counters\"]\n",
    "omit = ['users', 'susp_users', 'amplifiers', 'mentioners', 'quoters', 'repliers', 'retweeters']\n",
    "for o in omit:\n",
    "    if o in counters:\n",
    "        del(counters[o])\n",
    "print(\"Below is a list of counters collected from the account's last \" + str(num_tweets) + \" tweets.\")\n",
    "print()\n",
    "print(\"influencers = whenever the examined account interacts in any way (reply, mention, retweet) with another account, this counter is incremented\")\n",
    "print_counters(counters, uf, 50)"
   ]
  },
  {
   "cell_type": "code",
   "execution_count": null,
   "metadata": {},
   "outputs": [],
   "source": [
    "sn_rsn = full[\"sn_rsn\"]\n",
    "rsn_sn = full[\"rsn_sn\"]\n",
    "sn_rep = full[\"sn_rep\"]\n",
    "rep_sn = full[\"rep_sn\"]\n",
    "twid_count = full[\"twid_count\"]\n",
    "twid_rtc = full[\"twid_rtc\"]\n",
    "twid_text = full[\"twid_text\"]\n",
    "twid_url = full[\"twid_url\"]\n",
    "twid_sn = full[\"twid_sn\"]\n",
    "sn_twid = full[\"sn_twid\"]"
   ]
  },
  {
   "cell_type": "code",
   "execution_count": null,
   "metadata": {},
   "outputs": [],
   "source": [
    "print(\"Suspicious original tweets\")\n",
    "print(\"==========================\")\n",
    "print(\"These can include:\")\n",
    "print(\" - tweets that were retweeted more than liked\")\n",
    "print(\" - tweets that look like follow trains\")\n",
    "print(\" - tweets that are mostly, or all hashtags, and an image\")\n",
    "print()\n",
    "for twid in full[\"susp_orig_twids\"]:\n",
    "    print(twid_url[twid] + \"\\t\" + twid_text[twid])"
   ]
  },
  {
   "cell_type": "code",
   "execution_count": null,
   "metadata": {},
   "outputs": [],
   "source": [
    "print(\"Suspicious retweets\")\n",
    "print(\"===================\")\n",
    "print(\"These can include:\")\n",
    "print(\" - tweets that were retweeted more than liked\")\n",
    "print(\" - tweets that look like follow trains\")\n",
    "print(\" - tweets that are mostly, or all hashtags, and an image\")\n",
    "print()\n",
    "for twid in full[\"susp_twids\"]:\n",
    "    print(twid_url[twid] + \"\\t\" + twid_text[twid])"
   ]
  },
  {
   "cell_type": "code",
   "execution_count": null,
   "metadata": {
    "scrolled": false
   },
   "outputs": [],
   "source": [
    "print(\"Top 20 tweets that received the most retweets (from everyone on Twitter)\")\n",
    "print()\n",
    "print(\"The number preceding the tweet is the number of retweets it received.\")\n",
    "print()\n",
    "print_tweet_texts(twid_rtc, twid_text, twid_url, 20)"
   ]
  },
  {
   "cell_type": "markdown",
   "metadata": {},
   "source": [
    "Interarrivals are counts of time deltas between tweets.\n",
    "\n",
    "We measure the time between the previous tweet and the current tweet (in seconds). We record how many times each time delta is observed and plot a graph. Accounts that have large counts of the same time delta between tweets can be indicative of automation."
   ]
  },
  {
   "cell_type": "code",
   "execution_count": null,
   "metadata": {},
   "outputs": [],
   "source": [
    "plot_data = make_interarrivals_plot_data(tweets)\n",
    "sns.set(rc={'figure.figsize':(20,10)})\n",
    "sns.set(style=\"whitegrid\")\n",
    "plt.figure()\n",
    "ax = sns.barplot(x=\"deltas\", y=\"counts\", palette=\"husl\", data=plot_data)\n",
    "ax.set_title(\"Interarrivals\")"
   ]
  },
  {
   "cell_type": "code",
   "execution_count": null,
   "metadata": {
    "scrolled": true
   },
   "outputs": [],
   "source": [
    "print(\"Number of tweets observed per day\")\n",
    "print()\n",
    "tweet_counts = get_sorted_tweet_counts(tweets)\n",
    "print_tweet_counts(tweet_counts)"
   ]
  },
  {
   "cell_type": "code",
   "execution_count": null,
   "metadata": {},
   "outputs": [],
   "source": [
    "plot_data = get_tweet_counts_plot_data(tweets)\n",
    "num_cols = len(plot_data[\"date\"])\n",
    "print(num_cols)\n",
    "height = num_cols/5\n",
    "sns.set(rc={'figure.figsize':(20,height)})\n",
    "sns.set(style=\"whitegrid\")\n",
    "plt.figure()\n",
    "ax = sns.barplot(y=\"date\", x=\"count\", palette=\"husl\", data=plot_data)\n",
    "for i, v in enumerate(plot_data[\"count\"]):\n",
    "    ax.text(v+1, i+0.25, str(v), fontweight='bold')\n",
    "ax.set_title(\"Tweet counts\")\n",
    "#ax.yaxis.set_major_locator(plt.MaxNLocator(20))"
   ]
  },
  {
   "cell_type": "code",
   "execution_count": null,
   "metadata": {
    "scrolled": true
   },
   "outputs": [],
   "source": [
    "print(\"All captured tweets from the target account, from most recent to least recent.\")\n",
    "print()\n",
    "print(\"Note - for accounts that have published more than 3200 tweets, this is roughly the last 3200 tweets.\")\n",
    "print()\n",
    "for t in tweets:\n",
    "    twid = t[\"id_str\"]\n",
    "    ds = t[\"created_at\"]\n",
    "    text = twid_text[twid][:100]\n",
    "    url = twid_url[twid]\n",
    "    print(ds+ \"\\t\" + text + \"\\t\" + url)"
   ]
  },
  {
   "cell_type": "markdown",
   "metadata": {},
   "source": [
    "The following few cells show at which times of the day tweets were published. This can be useful for identifying the timezone the account holder lives in. All times are in UTC."
   ]
  },
  {
   "cell_type": "code",
   "execution_count": null,
   "metadata": {},
   "outputs": [],
   "source": [
    "plot_data = get_tweet_counts_scatter_plot_data(tweets)\n",
    "sns.set(rc={'figure.figsize':(20,15)})\n",
    "sns.set(style=\"whitegrid\")\n",
    "plt.figure()\n",
    "ax = sns.scatterplot(x=\"hour\", y=\"date\", size=\"count\", hue=\"count\", sizes=(50, 500), data=plot_data, legend=False)\n",
    "ax.xaxis.set_ticks_position('top')\n",
    "ax.set_title(\"Tweet times (hour)\")\n",
    "ax.yaxis.set_major_locator(plt.MaxNLocator(20))"
   ]
  },
  {
   "cell_type": "code",
   "execution_count": null,
   "metadata": {},
   "outputs": [],
   "source": [
    "heatmap = make_short_heatmap(tweets)\n",
    "print_short_heatmap(heatmap)"
   ]
  },
  {
   "cell_type": "code",
   "execution_count": null,
   "metadata": {},
   "outputs": [],
   "source": [
    "sns.set(rc={'figure.figsize':(20,5)})\n",
    "sns.set(style=\"whitegrid\")\n",
    "hm = np.array(heatmap)\n",
    "days = [\"M\", \"T\", \"W\", \"T\", \"F\", \"S\", \"S\"]\n",
    "plt.figure()\n",
    "ax = sns.heatmap(hm, annot=True, fmt=\"d\", cmap=\"YlGnBu\", cbar=False, yticklabels=days)\n",
    "ax.xaxis.set_ticks_position('top')\n",
    "ax.set_title(\"Combined heatmap\")"
   ]
  },
  {
   "cell_type": "code",
   "execution_count": null,
   "metadata": {},
   "outputs": [],
   "source": [
    "long_hm = make_long_heatmap(tweets)"
   ]
  },
  {
   "cell_type": "code",
   "execution_count": null,
   "metadata": {
    "scrolled": true
   },
   "outputs": [],
   "source": [
    "print_long_heatmap(long_hm)"
   ]
  },
  {
   "cell_type": "code",
   "execution_count": null,
   "metadata": {
    "scrolled": true
   },
   "outputs": [],
   "source": [
    "sns.set(rc={'figure.figsize':(20,5)})\n",
    "sns.set(style=\"whitegrid\")\n",
    "days = [\"M\", \"T\", \"W\", \"T\", \"F\", \"S\", \"S\"]\n",
    "count = 0\n",
    "for weeknum, htm in sorted(long_hm.items(), reverse=True):\n",
    "    if count >= 20:\n",
    "        break\n",
    "    count += 1\n",
    "    hm = np.array(htm)\n",
    "    plt.figure()\n",
    "    ax = sns.heatmap(hm, annot=True, fmt=\"d\", cmap=\"YlGnBu\", cbar=False, yticklabels=days)\n",
    "    ax.xaxis.set_ticks_position('top')\n",
    "    ax.set_title(\"Week number: \" + str(weeknum))"
   ]
  },
  {
   "cell_type": "code",
   "execution_count": null,
   "metadata": {},
   "outputs": [],
   "source": [
    "print(\"Sources - where the tweet originated\")\n",
    "print(\"This field can be used to occasionally identify accounts that use standard automation services such as IFTTT\")\n",
    "print()\n",
    "print_counter(counters[\"sources\"], 100)"
   ]
  },
  {
   "cell_type": "code",
   "execution_count": null,
   "metadata": {},
   "outputs": [],
   "source": [
    "# Show source fields\n",
    "cluster_hts = counters[\"sources\"]\n",
    "\n",
    "plot_data = {}\n",
    "plot_data[\"labels\"] = []\n",
    "plot_data[\"sizes\"] = []\n",
    "\n",
    "n = 25\n",
    "other = 0\n",
    "otherc = 0\n",
    "for ht, c in cluster_hts.most_common():\n",
    "    if len(plot_data[\"labels\"]) <= n:\n",
    "        plot_data[\"labels\"].append(ht)\n",
    "        plot_data[\"sizes\"].append(c)\n",
    "    else:\n",
    "        otherc += 1\n",
    "        other += c\n",
    "plot_data[\"labels\"].append(\"Other (\" + str(other) + \")\")\n",
    "plot_data[\"sizes\"].append(other)\n",
    "\n",
    "fig = plt.figure(figsize=(9,5))\n",
    "ax = fig.add_axes((0,0,.5,1))\n",
    "ax.set_title(\"Sources\")\n",
    "plt.pie(plot_data[\"sizes\"], labels=plot_data[\"labels\"], autopct='%1.1f%%', startangle=0)\n",
    "plt.axis('equal')\n",
    "plt.show()"
   ]
  },
  {
   "cell_type": "code",
   "execution_count": null,
   "metadata": {},
   "outputs": [],
   "source": [
    "# Show some hashtags\n",
    "cluster_hts = counters[\"hashtags\"]\n",
    "\n",
    "plot_data = {}\n",
    "plot_data[\"labels\"] = []\n",
    "plot_data[\"sizes\"] = []\n",
    "\n",
    "n = 25\n",
    "other = 0\n",
    "otherc = 0\n",
    "for ht, c in cluster_hts.most_common():\n",
    "    if len(plot_data[\"labels\"]) <= n:\n",
    "        plot_data[\"labels\"].append(\"#\" + ht)\n",
    "        plot_data[\"sizes\"].append(c)\n",
    "    else:\n",
    "        otherc += 1\n",
    "        other += c\n",
    "plot_data[\"labels\"].append(\"Other (\" + str(other) + \")\")\n",
    "plot_data[\"sizes\"].append(other)\n",
    "\n",
    "fig = plt.figure(figsize=(18,10))\n",
    "ax = fig.add_axes((0,0,.5,1))\n",
    "ax.set_title(\"Hashtags\")\n",
    "plt.pie(plot_data[\"sizes\"], labels=plot_data[\"labels\"], autopct='%1.1f%%', startangle=0)\n",
    "plt.axis('equal')\n",
    "plt.show()"
   ]
  },
  {
   "cell_type": "code",
   "execution_count": null,
   "metadata": {},
   "outputs": [],
   "source": [
    "# Show some hashtags\n",
    "cluster_hts = counters[\"retweeted\"]\n",
    "\n",
    "plot_data = {}\n",
    "plot_data[\"labels\"] = []\n",
    "plot_data[\"sizes\"] = []\n",
    "\n",
    "n = 25\n",
    "other = 0\n",
    "otherc = 0\n",
    "for ht, c in cluster_hts.most_common():\n",
    "    if len(plot_data[\"labels\"]) <= n:\n",
    "        plot_data[\"labels\"].append(ht)\n",
    "        plot_data[\"sizes\"].append(c)\n",
    "    else:\n",
    "        otherc += 1\n",
    "        other += c\n",
    "plot_data[\"labels\"].append(\"Other (\" + str(other) + \")\")\n",
    "plot_data[\"sizes\"].append(other)\n",
    "\n",
    "fig = plt.figure(figsize=(18,10))\n",
    "ax = fig.add_axes((0,0,.5,1))\n",
    "ax.set_title(\"Retweeted\")\n",
    "plt.pie(plot_data[\"sizes\"], labels=plot_data[\"labels\"], autopct='%1.1f%%', startangle=0)\n",
    "plt.axis('equal')\n",
    "plt.show()"
   ]
  },
  {
   "cell_type": "code",
   "execution_count": null,
   "metadata": {},
   "outputs": [],
   "source": [
    "# Show some url domains\n",
    "domains = counters[\"domains\"]\n",
    "cluster_hts = domains\n",
    "plot_data = {}\n",
    "plot_data[\"labels\"] = []\n",
    "plot_data[\"sizes\"] = []\n",
    "\n",
    "n = 40\n",
    "other = 0\n",
    "otherc = 0\n",
    "for ht, c in cluster_hts.most_common():\n",
    "    if len(plot_data[\"labels\"]) <= n:\n",
    "        plot_data[\"labels\"].append(ht)\n",
    "        plot_data[\"sizes\"].append(c)\n",
    "    else:\n",
    "        otherc += 1\n",
    "        other += c\n",
    "plot_data[\"labels\"].append(\"Other (\" + str(other) + \")\")\n",
    "plot_data[\"sizes\"].append(other)\n",
    "\n",
    "fig = plt.figure(figsize=(18,10))\n",
    "ax = fig.add_axes((0,0,.5,1))\n",
    "ax.set_title(\"Domains\")\n",
    "plt.pie(plot_data[\"sizes\"], labels=plot_data[\"labels\"], autopct='%1.1f%%', startangle=0)\n",
    "plt.axis('equal')\n",
    "plt.show()"
   ]
  },
  {
   "cell_type": "code",
   "execution_count": null,
   "metadata": {},
   "outputs": [],
   "source": [
    "follower_dets_fn = os.path.join(dirname, \"follower_details.json\")\n",
    "follower_details = []\n",
    "if os.path.exists(follower_dets_fn):\n",
    "    print(\"Loading follower details from: \" + follower_dets_fn)\n",
    "    follower_details = load_json(follower_dets_fn)\n",
    "else:\n",
    "    print(\"Retrieving followers from Twitter\")\n",
    "    follower_details = get_follower_data_sn(target)\n",
    "    save_json(follower_details, follower_dets_fn)\n",
    "print(\"Found: \" + str(len(follower_details)) + \" followers.\")"
   ]
  },
  {
   "cell_type": "code",
   "execution_count": null,
   "metadata": {
    "scrolled": false
   },
   "outputs": [],
   "source": [
    "# Show account age distribution\n",
    "cluster_acct_ages = Counter()\n",
    "quarters = {\"Q1\": [1, 2, 3],\n",
    "            \"Q2\": [4, 5, 6],\n",
    "            \"Q3\": [7, 8, 9],\n",
    "            \"Q4\": [10, 11, 12]}\n",
    "flrtw = Counter()\n",
    "for d in follower_details:\n",
    "    flrtw[d[\"screen_name\"]] += 1\n",
    "    if \"created_at\" in d:\n",
    "        ca = d[\"created_at\"]\n",
    "        yr = ca[-4:]\n",
    "        mon = md[ca[4:7]]\n",
    "        q = \"\"\n",
    "        for qname, qvals in quarters.items():\n",
    "            if int(mon) in qvals:\n",
    "                q = qname\n",
    "        day = ca[8:10]\n",
    "        #ds = str(yr) + \"-\" + str(mon)\n",
    "        ds = str(yr) + \"-\" + q\n",
    "        cluster_acct_ages[ds] += 1\n",
    "plot_data = {}\n",
    "plot_data[\"labels\"] = []\n",
    "plot_data[\"counts\"] = []\n",
    "for label, count in sorted(cluster_acct_ages.items(), reverse=True):\n",
    "    plot_data[\"labels\"].append(label)\n",
    "    plot_data[\"counts\"].append(count)\n",
    "plot_data = trim_plot_data(plot_data, 0, 50)\n",
    "height = len(plot_data[\"counts\"])/3\n",
    "sns.set(rc={'figure.figsize':(20,height)})\n",
    "sns.set(style=\"whitegrid\")\n",
    "plt.figure()\n",
    "ax = sns.barplot(x=\"counts\", y=\"labels\", palette=\"husl\", data=plot_data)\n",
    "for i, v in enumerate(plot_data[\"counts\"]):\n",
    "    pad = min(1.0, v/100)\n",
    "    ax.text(v+pad, i+0.25, str(v), fontweight='bold')\n",
    "ax.set_title(\"Ages of accounts that follow: \" + target)"
   ]
  },
  {
   "cell_type": "code",
   "execution_count": null,
   "metadata": {},
   "outputs": [],
   "source": [
    "print(\"Field description:\")\n",
    "print(\"sc = number of tweets published\")\n",
    "print(\"fl = number of followers\")\n",
    "print(\"fr = number of accounts following\")\n",
    "print(\"egg = true, if the account has default profile and profile picture\")\n",
    "print(\"ca = date account was created\")\n",
    "print()\n",
    "min_retweets = 1\n",
    "date_cutoff = \"2019_10\"\n",
    "print(\"Accounts that follow \" + target + \" that were created after \" + date_cutoff)\n",
    "s = print_alt_summary_list(follower_details, flrtw, min_retweets=min_retweets, date_cutoff=date_cutoff)"
   ]
  },
  {
   "cell_type": "code",
   "execution_count": null,
   "metadata": {},
   "outputs": [],
   "source": [
    "# Follower factory plot\n",
    "plot_data = {}\n",
    "plot_data[\"index\"] = []\n",
    "plot_data[\"timestamp\"] = []\n",
    "follower_details_rev = follower_details\n",
    "follower_details_rev.reverse()\n",
    "for index, d in enumerate(follower_details):\n",
    "    ts = twitter_time_to_unix(d[\"created_at\"])\n",
    "    plot_data[\"index\"].append(index)\n",
    "    plot_data[\"timestamp\"].append(ts)\n",
    "df = pd.DataFrame({\"x\": plot_data[\"index\"],\n",
    "                   \"y\": plot_data[\"timestamp\"]})\n",
    "df.plot.scatter(\"x\", \"y\", figsize=(20,5), s=0.1, title=\"Follower Factory: \" + target)"
   ]
  },
  {
   "cell_type": "code",
   "execution_count": null,
   "metadata": {},
   "outputs": [],
   "source": [
    "friends_dets_fn = os.path.join(dirname, \"friends_details.json\")\n",
    "friends_details = []\n",
    "if os.path.exists(friends_dets_fn):\n",
    "    print(\"Loading friends details from: \" + friends_dets_fn)\n",
    "    friends_details = load_json(friends_dets_fn)\n",
    "else:\n",
    "    print(\"Retrieving friends from Twitter\")\n",
    "    friends_details = get_friends_data_sn(target)\n",
    "    save_json(friends_details, friends_dets_fn)\n",
    "print(\"Found: \" + str(len(friends_details)) + \" friends.\")"
   ]
  },
  {
   "cell_type": "code",
   "execution_count": null,
   "metadata": {},
   "outputs": [],
   "source": [
    "# Show account age distribution\n",
    "cluster_acct_ages = Counter()\n",
    "quarters = {\"Q1\": [1, 2, 3],\n",
    "            \"Q2\": [4, 5, 6],\n",
    "            \"Q3\": [7, 8, 9],\n",
    "            \"Q4\": [10, 11, 12]}\n",
    "frrtw = Counter()\n",
    "for d in friends_details:\n",
    "    frrtw[d[\"screen_name\"]] += 1\n",
    "    if \"created_at\" in d:\n",
    "        ca = d[\"created_at\"]\n",
    "        yr = ca[-4:]\n",
    "        mon = md[ca[4:7]]\n",
    "        q = \"\"\n",
    "        for qname, qvals in quarters.items():\n",
    "            if int(mon) in qvals:\n",
    "                q = qname\n",
    "        day = ca[8:10]\n",
    "        ds = str(yr) + \"-\" + q\n",
    "        cluster_acct_ages[ds] += 1\n",
    "plot_data = {}\n",
    "plot_data[\"labels\"] = []\n",
    "plot_data[\"counts\"] = []\n",
    "for label, count in sorted(cluster_acct_ages.items(), reverse=True):\n",
    "    plot_data[\"labels\"].append(label)\n",
    "    plot_data[\"counts\"].append(count)\n",
    "plot_data = trim_plot_data(plot_data, 0, 50)\n",
    "height = len(plot_data[\"counts\"])/3\n",
    "sns.set(rc={'figure.figsize':(20,height)})\n",
    "sns.set(style=\"whitegrid\")\n",
    "plt.figure()\n",
    "ax = sns.barplot(x=\"counts\", y=\"labels\", palette=\"husl\", data=plot_data)\n",
    "for i, v in enumerate(plot_data[\"counts\"]):\n",
    "    pad = min(1.0, v/100)\n",
    "    ax.text(v+pad, i+0.25, str(v), fontweight='bold')\n",
    "ax.set_title(\"Ages of accounts that : \" + target + \" follows.\")"
   ]
  },
  {
   "cell_type": "code",
   "execution_count": null,
   "metadata": {
    "scrolled": true
   },
   "outputs": [],
   "source": [
    "min_retweets = 1\n",
    "date_cutoff = \"2019_10\"\n",
    "print(\"Accounts that \" + target + \" follows that were created after \" + date_cutoff)\n",
    "s = print_alt_summary_list(friends_details, frrtw, min_retweets=min_retweets, date_cutoff=date_cutoff)"
   ]
  },
  {
   "cell_type": "code",
   "execution_count": null,
   "metadata": {},
   "outputs": [],
   "source": [
    "followerids = set()\n",
    "followersns = set()\n",
    "friendids = set()\n",
    "friendsns = set()\n",
    "details_dict = {}\n",
    "for d in follower_details:\n",
    "    details_dict[d[\"screen_name\"]] = d\n",
    "    followersns.add(d[\"screen_name\"])\n",
    "    followerids.add(d[\"id_str\"])\n",
    "for d in friends_details:\n",
    "    details_dict[d[\"screen_name\"]] = d\n",
    "    friendsns.add(d[\"screen_name\"])\n",
    "    friendids.add(d[\"id_str\"])\n",
    "union = followersns.union(friendsns)\n",
    "intersection = followersns.intersection(friendsns)\n",
    "print(target + \" has \" + str(len(intersection)) + \" followers that are also friends.\")\n",
    "print_sn_list(intersection)"
   ]
  },
  {
   "cell_type": "code",
   "execution_count": null,
   "metadata": {},
   "outputs": [],
   "source": [
    "int_details = []\n",
    "for sn in intersection:\n",
    "    int_details.append(details_dict[sn])\n",
    "# Show account age distribution\n",
    "cluster_acct_ages = Counter()\n",
    "quarters = {\"Q1\": [1, 2, 3],\n",
    "            \"Q2\": [4, 5, 6],\n",
    "            \"Q3\": [7, 8, 9],\n",
    "            \"Q4\": [10, 11, 12]}\n",
    "intrtw = Counter()\n",
    "for d in int_details:\n",
    "    intrtw[d[\"screen_name\"]] += 1\n",
    "    if \"created_at\" in d:\n",
    "        ca = d[\"created_at\"]\n",
    "        yr = ca[-4:]\n",
    "        mon = md[ca[4:7]]\n",
    "        q = \"\"\n",
    "        for qname, qvals in quarters.items():\n",
    "            if int(mon) in qvals:\n",
    "                q = qname\n",
    "        day = ca[8:10]\n",
    "        #ds = str(yr) + \"-\" + str(mon)\n",
    "        ds = str(yr) + \"-\" + q\n",
    "        cluster_acct_ages[ds] += 1\n",
    "plot_data = {}\n",
    "plot_data[\"labels\"] = []\n",
    "plot_data[\"counts\"] = []\n",
    "for label, count in sorted(cluster_acct_ages.items(), reverse=True):\n",
    "    plot_data[\"labels\"].append(label)\n",
    "    plot_data[\"counts\"].append(count)\n",
    "plot_data = trim_plot_data(plot_data, 0, 50)\n",
    "height = len(plot_data[\"counts\"])/3\n",
    "sns.set(rc={'figure.figsize':(20,height)})\n",
    "sns.set(style=\"whitegrid\")\n",
    "plt.figure()\n",
    "ax = sns.barplot(x=\"counts\", y=\"labels\", palette=\"husl\", data=plot_data)\n",
    "for i, v in enumerate(plot_data[\"counts\"]):\n",
    "    pad = min(1.0, v/100)\n",
    "    ax.text(v+pad, i+0.25, str(v), fontweight='bold')\n",
    "ax.set_title(\"Ages of accounts that: \" + target + \" follows and followed.\")"
   ]
  },
  {
   "cell_type": "code",
   "execution_count": null,
   "metadata": {},
   "outputs": [],
   "source": [
    "min_retweets = 1\n",
    "date_cutoff = \"2019_10\"\n",
    "print(\"Accounts that both follow and are followed by \" + target + \" and were created after \" + date_cutoff)\n",
    "s = print_alt_summary_list(int_details, intrtw, min_retweets=min_retweets, date_cutoff=date_cutoff)"
   ]
  },
  {
   "cell_type": "code",
   "execution_count": null,
   "metadata": {},
   "outputs": [],
   "source": []
  }
 ],
 "metadata": {
  "kernelspec": {
   "display_name": "Python 3",
   "language": "python",
   "name": "python3"
  },
  "language_info": {
   "codemirror_mode": {
    "name": "ipython",
    "version": 3
   },
   "file_extension": ".py",
   "mimetype": "text/x-python",
   "name": "python",
   "nbconvert_exporter": "python",
   "pygments_lexer": "ipython3",
   "version": "3.7.3"
  }
 },
 "nbformat": 4,
 "nbformat_minor": 2
}
